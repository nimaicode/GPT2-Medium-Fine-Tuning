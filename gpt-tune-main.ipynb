{
  "cells": [
    {
      "cell_type": "markdown",
      "metadata": {
        "id": "view-in-github",
        "colab_type": "text"
      },
      "source": [
        "<a href=\"https://colab.research.google.com/github/nimaicode/GPT2-Medium-Fine-Tuning/blob/main/gpt-tune-main.ipynb\" target=\"_parent\"><img src=\"https://colab.research.google.com/assets/colab-badge.svg\" alt=\"Open In Colab\"/></a>"
      ]
    },
    {
      "cell_type": "code",
      "execution_count": null,
      "metadata": {
        "colab": {
          "base_uri": "https://localhost:8080/"
        },
        "id": "Sp9PfC-zo1tl",
        "outputId": "32159ff3-9cbc-4f9d-bcda-057e461e6d86"
      },
      "outputs": [
        {
          "output_type": "stream",
          "name": "stdout",
          "text": [
            "Using device: cuda\n"
          ]
        }
      ],
      "source": [
        "import torch\n",
        "# Check if GPU can be used to run code\n",
        "device = torch.device(\n",
        "    \"cuda\" if torch.cuda.is_available() else \"cpu\")\n",
        "\n",
        "print(f\"Using device: {device}\")"
      ]
    },
    {
      "cell_type": "code",
      "execution_count": null,
      "metadata": {
        "id": "qqpnrU1om0bD"
      },
      "outputs": [],
      "source": [
        "import os\n",
        "\n",
        "## Keep your training documents in a folder named 'data'\n",
        "data_dir = \"sample_data\"\n",
        "output_file = \"all_data.txt\"\n",
        "\n",
        "def is_hidden(filepath):\n",
        "    return os.path.basename(filepath).startswith('.')\n",
        "\n",
        "with open(output_file, \"w\") as outfile:\n",
        "    for filename in os.listdir(data_dir):\n",
        "        filepath = os.path.join(data_dir, filename)\n",
        "        if not is_hidden(filepath):\n",
        "            with open(filepath) as infile:\n",
        "                for line in infile:\n",
        "                    # only write the line if it's not empty\n",
        "                    # (and, not just whitespace)\n",
        "                    if line.strip():\n",
        "                        outfile.write(line)"
      ]
    },
    {
      "cell_type": "markdown",
      "source": [
        "# New Section"
      ],
      "metadata": {
        "id": "MxNHog6adXhc"
      }
    },
    {
      "cell_type": "code",
      "source": [
        "#from google.colab import drive\n",
        "#drive.mount('/content/drive')"
      ],
      "metadata": {
        "id": "7ENcy9q_dJO2"
      },
      "execution_count": null,
      "outputs": []
    },
    {
      "cell_type": "code",
      "source": [
        "from transformers import GPT2Tokenizer, GPT2LMHeadModel, \\\n",
        "    TrainingArguments, Trainer, DataCollatorWithPadding\n",
        "from torch.utils.data import Dataset\n",
        "\n",
        "## GPT-2 Small ('gpt2'): 124 million parameters.\n",
        "## GPT-2 Medium ('gpt2-medium'): 345 million parameters.\n",
        "## GPT-2 Large ('gpt2-large'): 774 million parameters.\n",
        "## GPT-2 XL ('gpt2-xl'): 1.5 billion parameters.\n",
        "\n",
        "\n",
        "# Load pre-trained GPT-2 tokenizer and model\n",
        "tokenizer = GPT2Tokenizer.from_pretrained(\"gpt2-medium\")\n",
        "model = GPT2LMHeadModel.from_pretrained(\"gpt2-medium\")\n",
        "\n",
        "# Set padding token\n",
        "if tokenizer.pad_token is None:\n",
        "    tokenizer.pad_token = tokenizer.eos_token\n",
        "    tokenizer.pad_token_id = tokenizer.eos_token_id\n",
        "\n",
        "# Your custom dataset\n",
        "class CustomDataset(Dataset):\n",
        "    def __init__(self, tokenizer, file_path, block_size):\n",
        "        self.tokenizer = tokenizer\n",
        "        with open(file_path, \"r\") as f:\n",
        "            self.text = f.read().splitlines()\n",
        "    def __len__(self):\n",
        "        return len(self.text)\n",
        "    def __getitem__(self, idx):\n",
        "        tokenized_inputs = self.tokenizer(\n",
        "            self.text[idx],\n",
        "            truncation=True,\n",
        "            padding=\"max_length\",\n",
        "            max_length=128,\n",
        "            return_tensors=\"pt\")\n",
        "        tokenized_inputs[\"labels\"] = tokenized_inputs[\"input_ids\"]\n",
        "        return tokenized_inputs\n",
        "\n",
        "# Load data\n",
        "data = CustomDataset(tokenizer, \"all_data.txt\", 128)\n",
        "\n",
        "# Create a data collator that will dynamically pad the sequences\n",
        "data_collator = DataCollatorWithPadding(tokenizer=tokenizer)\n",
        "\n",
        "# Training arguments and Trainer\n",
        "training_args = TrainingArguments(\n",
        "    per_device_train_batch_size=2,\n",
        "    num_train_epochs=400, # Increse for more training from the fine-tuning data\n",
        "    learning_rate=1e-4,  # Decrease the learning rate for smaller fine-tuning data\n",
        "    output_dir='./results',\n",
        "    logging_dir='./logs',\n",
        "    logging_steps=10,\n",
        "    load_best_model_at_end=False,\n",
        "    evaluation_strategy=\"no\",\n",
        "    remove_unused_columns=False,\n",
        "    push_to_hub=False,\n",
        ")\n",
        "\n",
        "trainer = Trainer(\n",
        "    model=model,\n",
        "    args=training_args,\n",
        "    train_dataset=data,\n",
        "    eval_dataset=None,  # You can specify an evaluation dataset here\n",
        "    data_collator=data_collator,  # Add the data collator here\n",
        ")\n",
        "\n",
        "trainer.train()\n"
      ],
      "metadata": {
        "id": "JJ-AUhMMh4Pj"
      },
      "execution_count": null,
      "outputs": []
    },
    {
      "cell_type": "code",
      "source": [
        "# Ensure your model is in evaluation mode\n",
        "# to disable dropout layers\n",
        "model.eval()\n",
        "\n",
        "# Create a prompt text for the model to complete\n",
        "prompt_text = \"Who is Igor Kolokov?\"\n",
        "\n",
        "# Tokenize the prompt text and convert to tensor\n",
        "input_ids = tokenizer(prompt_text, return_tensors=\"pt\").input_ids\n",
        "attention_mask = tokenizer(\n",
        "    prompt_text, return_tensors=\"pt\").attention_mask\n",
        "\n",
        "# Move input_ids and attention_mask tensor to GPU\n",
        "input_ids = input_ids.to(device)\n",
        "attention_mask = attention_mask.to(device)\n",
        "\n",
        "# Generate text from the model\n",
        "output = model.generate(\n",
        "    input_ids=input_ids,\n",
        "    attention_mask=attention_mask,\n",
        "    pad_token_id=tokenizer.pad_token_id,\n",
        "    max_length=100,\n",
        "    num_beams=5,\n",
        "    temperature=1.5,\n",
        "    top_k=50,\n",
        "    do_sample=True  # Enable sampling to consider temperature setting\n",
        ")\n",
        "\n",
        "# Decode the generated text back to string\n",
        "generated_text = tokenizer.decode(output[0],\n",
        "                                  skip_special_tokens=True)\n",
        "\n",
        "print(generated_text)\n"
      ],
      "metadata": {
        "id": "s04MNTi3h4MM"
      },
      "execution_count": null,
      "outputs": []
    },
    {
      "cell_type": "code",
      "source": [
        "print(mean_pooled_embedding)"
      ],
      "metadata": {
        "id": "p40P7e2th4Cq"
      },
      "execution_count": null,
      "outputs": []
    },
    {
      "cell_type": "code",
      "source": [
        "print(len(mean_pooled_embedding))"
      ],
      "metadata": {
        "id": "RbmUuzCoiItN"
      },
      "execution_count": null,
      "outputs": []
    }
  ],
  "metadata": {
    "accelerator": "GPU",
    "colab": {
      "gpuType": "T4",
      "provenance": [],
      "include_colab_link": true
    },
    "kernelspec": {
      "display_name": "Python 3",
      "name": "python3"
    },
    "language_info": {
      "name": "python"
    }
  },
  "nbformat": 4,
  "nbformat_minor": 0
}